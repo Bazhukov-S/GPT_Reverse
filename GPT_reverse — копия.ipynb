{
 "cells": [
  {
   "cell_type": "code",
   "execution_count": null,
   "metadata": {},
   "outputs": [],
   "source": []
  },
  {
   "cell_type": "code",
   "execution_count": 99,
   "metadata": {},
   "outputs": [],
   "source": [
    "from openai import OpenAI\n",
    "import math\n"
   ]
  },
  {
   "cell_type": "code",
   "execution_count": 136,
   "metadata": {},
   "outputs": [],
   "source": [
    "def execute_code_from_chatgpt(code_str):\n",
    "    \"\"\"\n",
    "    Функция для выполнения кода, переданного в виде строки.\n",
    "    :param code_str: Строка с кодом на языке Python.\n",
    "    :return: Результат выполнения кода или ошибка, если она произошла.\n",
    "    \"\"\"\n",
    "    try:\n",
    "        # Создание словарей для изолированного выполнения кода\n",
    "        local_vars = {}\n",
    "        global_vars = {}\n",
    "        \n",
    "        # Выполнение кода\n",
    "        exec(code_str, global_vars, local_vars)\n",
    "        \n",
    "        # Если есть возвращаемое значение, можно извлечь его из локальных переменных\n",
    "        result = local_vars.get('result', None)\n",
    "        \n",
    "        # Вернуть результат выполнения или сообщение об успешном выполнении\n",
    "        return result if result is not None else \"Код выполнен успешно.\"\n",
    "    \n",
    "    except Exception as e:\n",
    "        return f\"Произошла ошибка: {str(e)}\""
   ]
  },
  {
   "cell_type": "code",
   "execution_count": 115,
   "metadata": {},
   "outputs": [
    {
     "name": "stdout",
     "output_type": "stream",
     "text": [
      "def calculate_circle_area(radius):\n",
      "    return 3.14159 * radius**2\n",
      "\n",
      "result = calculate_circle_area(float(input(\"Введите радиус круга: \")))\n",
      "Результат выполнения кода: 78.53975\n"
     ]
    }
   ],
   "source": [
    "client = OpenAI()\n",
    "\n",
    "stream = client.chat.completions.create(\n",
    "    model=\"gpt-3.5-turbo\",\n",
    "    messages=[{\"role\": \"user\", \n",
    "               \"content\": \"Напиши код на питоне, чтобы считать площадь круга в виде функции, не используй импорты библиотек!. В конце пропиши: result = name_func(input(ЧТО Я ДОЛЖЕН ВВЕСТИ)), без print\"}],\n",
    "    stream=False,\n",
    ")\n",
    "# for chunk in stream:\n",
    "#     if chunk.choices[0].delta.content is not None:\n",
    "#         print(chunk.choices[0].delta.content, end=\"\")\n",
    "answer = stream.choices[0].message.content\n",
    "print(stream.choices[0].message.content)\n",
    "\n",
    "execution_result = execute_code_from_chatgpt(answer)\n",
    "print(f\"Результат выполнения кода: {execution_result}\")"
   ]
  },
  {
   "cell_type": "code",
   "execution_count": 141,
   "metadata": {},
   "outputs": [],
   "source": [
    "def understand_code(code_snippet):\n",
    "\n",
    "    prompt = (\"Imagine that you are an oilman who has been given the task of reverse engineering hydraulic correlations. You were given a c++ code where the designation of variables is unclear, but you can use the formula to understand what this variable is. Decode these variables.\"\n",
    "              \"\"\"Обратите внимание на следующие маркеры:\n",
    "- 86400: перевод суток в секунды (дебит)\n",
    "- 144: перевод квадратных дюймов в квадратные футы (скорость, диаметр)\n",
    "- 32.2: ускорение свободного падения (давление, сила) \"\"\"\n",
    "              \"Code: \\n\"\n",
    "              f\"{code_snippet}\")\n",
    "\n",
    "    stream = client.chat.completions.create(\n",
    "    model=\"gpt-4o\",\n",
    "    messages=[{\"role\": \"user\", \n",
    "               \"content\": prompt}],\n",
    "    stream=False,\n",
    "            )\n",
    "    \n",
    "    return stream.choices[0].message.content"
   ]
  },
  {
   "cell_type": "code",
   "execution_count": 142,
   "metadata": {},
   "outputs": [
    {
     "name": "stdout",
     "output_type": "stream",
     "text": [
      "Sure, let's break down the given C++ code to understand the hydraulic correlation variables involved:\n",
      "\n",
      "```cpp\n",
      "fVar1 = (*param_5 / ((*param_2 * 3.14 * 0.25) / 144.0)) / 86400.0;\n",
      "```\n",
      "\n",
      "To decode these variables, let's analyze each part of the formula:\n",
      "\n",
      "1. **86400.0**: This is a conversion factor from seconds in a day (since there are 86400 seconds in a day). It is typically used in flow rate conversions. In this context, it suggests that the variable `fVar1` is representing some form of daily rate (e.g., flow rate in barrels per day).\n",
      "\n",
      "2. **144.0**: This converts square inches to square feet (as there are 144 square inches in a square foot). This factor is typically used when dealing with areas, likely cross-sectional areas in this case.\n",
      "\n",
      "3. **3.14**: This is the approximate value of π (pi), used in calculations involving circles.\n",
      "\n",
      "4. **0.25 (or 1/4)**: This multiplier is used to account for the area calculation of a circle from its diameter. The area of a circle is given by \\(\\pi r^2\\), and if you replace the radius \\(r\\) with \\(d/2\\) (diameter divided by 2), the formula becomes \\(\\pi (d/2)^2 = \\pi d^2/4\\), hence the factor of 0.25 (1/4).\n",
      "\n",
      "Given these factors, let's identify the variables by relating them to known hydraulic relations:\n",
      "\n",
      "- **`param_5`**: Appears to represent a volumetric flow rate (Q), which is being divided by a cross-sectional area to ultimately derive a velocity.\n",
      "\n",
      "- **`param_2`**: This most likely represents a diameter \\(d\\), as it is being squared and used in the formula for the area of a circle.\n",
      "\n",
      "To perform the unit conversions from `param_5` to fVar1, follow the logical steps outlined:\n",
      "1. First, the cross-sectional area \\(A\\) of a pipe is computed as: \\[ A = \\left( \\frac{\\text{param\\_2}^2 \\times \\pi}{4} \\right) / 144 \\]\n",
      "   - The term \\(\\frac{\\pi}{4}\\) computes the area in square inches for a given diameter in inches.\n",
      "   - And dividing by 144 converts this area from square inches to square feet.\n",
      "\n",
      "2. Then, the volumetric flow rate `param_5` (likely given in cubic feet per second) is converted into another form by using this cross-sectional area:\n",
      "\n",
      "\\[ \\text{fVar1} = \\frac{\\text{param\\_5}}{A} / 86400 \\]\n",
      "\n",
      "Here, `fVar1` is derived in units that would result from this conversion chain:\n",
      "- First, converting the cross-sectional area.\n",
      "- Next, converting the rate to a daily basis by dividing by 86400.\n",
      "\n",
      "So the overall breakdown is:\n",
      "- `param_5` = Volumetric Flow Rate (likely in cubic feet per second)\n",
      "- `param_2` = Diameter of the pipe (in inches)\n",
      "- `fVar1` = Final Rate of Flow, converted to a daily flow rate, potentially representing something like fluid velocity in per day units.\n",
      "\n",
      "This suggests that `fVar1` is likely a flow rate normalized over a daily rate, calculated using the aforementioned conversions.\n"
     ]
    }
   ],
   "source": [
    "code = \"\"\"\"\n",
    "fVar1 = (*param_5 / ((*param_2 * 3.14 * 0.25) / 144.0)) / 86400.0;\n",
    "\n",
    "\"\"\"\n",
    "\n",
    "print(understand_code(code))"
   ]
  },
  {
   "cell_type": "code",
   "execution_count": null,
   "metadata": {},
   "outputs": [],
   "source": []
  }
 ],
 "metadata": {
  "kernelspec": {
   "display_name": ".venv",
   "language": "python",
   "name": "python3"
  },
  "language_info": {
   "codemirror_mode": {
    "name": "ipython",
    "version": 3
   },
   "file_extension": ".py",
   "mimetype": "text/x-python",
   "name": "python",
   "nbconvert_exporter": "python",
   "pygments_lexer": "ipython3",
   "version": "3.11.0"
  }
 },
 "nbformat": 4,
 "nbformat_minor": 2
}
